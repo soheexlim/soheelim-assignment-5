{
  "cells": [
    {
      "cell_type": "code",
      "execution_count": 11,
      "metadata": {
        "id": "LGkuYAaMXuWr"
      },
      "outputs": [],
      "source": [
        "import numpy as np\n",
        "import pandas as pd"
      ]
    },
    {
      "cell_type": "code",
      "source": [
        "# Load and preprocess data\n",
        "from google.colab import drive\n",
        "drive.mount('/content/drive')\n",
        "\n",
        "# Define file paths\n",
        "train_path = '/content/drive/My Drive/BU/Fall 2024/CS506/Assignments/Assignment 5/train.csv'\n",
        "test_path = '/content/drive/My Drive/BU/Fall 2024/CS506/Assignments/Assignment 5/test.csv'"
      ],
      "metadata": {
        "colab": {
          "base_uri": "https://localhost:8080/"
        },
        "id": "_dBV1HaiarD6",
        "outputId": "b578725d-52b9-462d-a33c-bf02109f2866"
      },
      "execution_count": 12,
      "outputs": [
        {
          "output_type": "stream",
          "name": "stdout",
          "text": [
            "Drive already mounted at /content/drive; to attempt to forcibly remount, call drive.mount(\"/content/drive\", force_remount=True).\n"
          ]
        }
      ]
    },
    {
      "cell_type": "code",
      "execution_count": 13,
      "metadata": {
        "id": "FgI8pWGRXuWr"
      },
      "outputs": [],
      "source": [
        "# Define the KNN class\n",
        "class KNN:\n",
        "    def __init__(self, k=3, distance_metric='euclidean', weighted=False):\n",
        "        self.k = k\n",
        "        self.distance_metric = distance_metric\n",
        "        self.weighted = weighted\n",
        "\n",
        "    def fit(self, X, y):\n",
        "        # TODO: Implement the fit method\n",
        "        self.X_train = X\n",
        "        self.y_train = y\n",
        "\n",
        "    def predict(self, X):\n",
        "        # TODO: Implement the predict method\n",
        "        predictions = []\n",
        "        for x in X:\n",
        "            distances = self.compute_distance(self.X_train, x)\n",
        "            # Get the indices of k nearest neighbors\n",
        "            nearest_neighbors_indices = np.argsort(distances)[:self.k]\n",
        "            nearest_neighbors_labels = self.y_train[nearest_neighbors_indices]\n",
        "            nearest_neighbors_distances = distances[nearest_neighbors_indices]\n",
        "\n",
        "            # If weighted, compute weighted voting\n",
        "            if self.weighted:\n",
        "                inverse_distances = 1 / (nearest_neighbors_distances + 1e-5)  # Avoid division by zero\n",
        "                weighted_votes = np.zeros(np.max(self.y_train) + 1)\n",
        "                for idx, label in enumerate(nearest_neighbors_labels):\n",
        "                    weighted_votes[label] += inverse_distances[idx]\n",
        "                prediction = np.argmax(weighted_votes)\n",
        "            else:\n",
        "                # Unweighted voting: most common label among neighbors\n",
        "                prediction = np.argmax(np.bincount(nearest_neighbors_labels.astype(int)))\n",
        "\n",
        "            predictions.append(prediction)\n",
        "        return np.array(predictions)\n",
        "\n",
        "    def compute_distance(self, X1, X2):\n",
        "        # TODO: Implement distance computation based on self.distance_metric\n",
        "        # Hint: Use numpy operations for efficient computation\n",
        "        if self.distance_metric == 'euclidean':\n",
        "            # Euclidean distance: sqrt(sum((x1 - x2)^2))\n",
        "            distances = np.sqrt(np.sum((X1 - X2) ** 2, axis=1))\n",
        "        return distances"
      ]
    },
    {
      "cell_type": "code",
      "execution_count": 14,
      "metadata": {
        "id": "rnAXXPfiXuWr"
      },
      "outputs": [],
      "source": [
        "# Define data preprocessing function\n",
        "def preprocess_data(train_path, test_path):\n",
        "    train_data = pd.read_csv(train_path)\n",
        "    test_data = pd.read_csv(test_path)\n",
        "\n",
        "    # TODO: Implement data preprocessing\n",
        "    # Handle categorical variables, scale features, etc.\n",
        "    # Separate features and labels for training data\n",
        "    # Assuming 'Exited' is the target variable and 'id' is a non-feature column\n",
        "    X_train = train_data.drop(columns=['Exited', 'id'])\n",
        "    y_train = train_data['Exited'].astype(int)  # Convert target labels to integers\n",
        "\n",
        "    X_test = test_data.drop(columns=['id'])\n",
        "\n",
        "    # Convert to numpy arrays for use in KNN\n",
        "    X_train = X_train.select_dtypes(include=[np.number]).values\n",
        "    X_test = X_test.select_dtypes(include=[np.number]).values\n",
        "    y_train = y_train.values\n",
        "\n",
        "    # Normalize/scale the features (mean = 0, std = 1)\n",
        "    mean = np.mean(X_train, axis=0)\n",
        "    std = np.std(X_train, axis=0)\n",
        "    X_train = (X_train - mean) / std\n",
        "    X_test = (X_test - mean) / std\n",
        "\n",
        "    return X_train, y_train, X_test"
      ]
    },
    {
      "cell_type": "code",
      "execution_count": 15,
      "metadata": {
        "id": "Egij5Qq9XuWs"
      },
      "outputs": [],
      "source": [
        "# Define cross-validation function\n",
        "def cross_validate(X, y, knn, n_splits=5):\n",
        "    # TODO: Implement cross-validation\n",
        "    # Compute ROC AUC scores\n",
        "    n_samples = len(X)\n",
        "    fold_size = n_samples // n_splits\n",
        "    scores = []\n",
        "\n",
        "    for i in range(n_splits):\n",
        "        # Split the data into training and validation sets\n",
        "        start_val = i * fold_size\n",
        "        end_val = (i + 1) * fold_size if i < n_splits - 1 else n_samples\n",
        "\n",
        "        X_val = X[start_val:end_val]\n",
        "        y_val = y[start_val:end_val]\n",
        "\n",
        "        X_train = np.concatenate((X[:start_val], X[end_val:]), axis=0)\n",
        "        y_train = np.concatenate((y[:start_val], y[end_val:]), axis=0)\n",
        "\n",
        "        # Train the model\n",
        "        knn.fit(X_train, y_train)\n",
        "\n",
        "        # Predict on validation set (labels treated as pseudo-scores)\n",
        "        y_pred = knn.predict(X_val)\n",
        "\n",
        "        # Use the predicted labels directly for ROC AUC\n",
        "        roc_auc = compute_roc_auc(y_val, y_pred)\n",
        "        scores.append(roc_auc)\n",
        "\n",
        "    return scores\n",
        "\n",
        "def compute_roc_auc(y_true, y_pred):\n",
        "    # Sort by predicted labels (0 or 1 treated as scores)\n",
        "    sorted_indices = np.argsort(y_pred)[::-1]\n",
        "    y_true_sorted = y_true[sorted_indices]\n",
        "\n",
        "    # True positive and false positive rates\n",
        "    tpr_list = []\n",
        "    fpr_list = []\n",
        "\n",
        "    P = np.sum(y_true == 1)  # Total positives\n",
        "    N = np.sum(y_true == 0)  # Total negatives\n",
        "\n",
        "    tp = 0\n",
        "    fp = 0\n",
        "\n",
        "    prev_label = -1\n",
        "    for i in range(len(y_pred)):\n",
        "        if y_pred[i] != prev_label:\n",
        "            tpr_list.append(tp / P)\n",
        "            fpr_list.append(fp / N)\n",
        "            prev_label = y_pred[i]\n",
        "\n",
        "        if y_true_sorted[i] == 1:\n",
        "            tp += 1\n",
        "        else:\n",
        "            fp += 1\n",
        "\n",
        "    # Add final (1, 1) point\n",
        "    tpr_list.append(1)\n",
        "    fpr_list.append(1)\n",
        "\n",
        "    # Compute area under the curve (AUC) using the trapezoidal rule\n",
        "    tpr = np.array(tpr_list)\n",
        "    fpr = np.array(fpr_list)\n",
        "    auc = np.trapz(tpr, fpr)\n",
        "\n",
        "    return auc"
      ]
    },
    {
      "cell_type": "code",
      "execution_count": 16,
      "metadata": {
        "colab": {
          "base_uri": "https://localhost:8080/"
        },
        "id": "mbWfS4baXuWs",
        "outputId": "f126df25-1e82-474e-c78a-675fccc6342a"
      },
      "outputs": [
        {
          "output_type": "stream",
          "name": "stdout",
          "text": [
            "Cross-validation scores: [0.7580419789941601, 0.7635930270797424, 0.7651226520439236, 0.7620617005163131, 0.7435775682165994]\n",
            "Best k found: 11, with score: 0.7609190470303633\n"
          ]
        }
      ],
      "source": [
        "X, y, X_test = preprocess_data(train_path, test_path)\n",
        "\n",
        "# Create and evaluate model\n",
        "knn = KNN(k=5, distance_metric='euclidean')\n",
        "\n",
        "# Perform cross-validation\n",
        "cv_scores = cross_validate(X, y, knn)\n",
        "\n",
        "print(\"Cross-validation scores:\", cv_scores)\n",
        "\n",
        "# TODO: hyperparamters tuning\n",
        "k_values = [3, 5, 7, 9, 11, 13, 15, 17, 19, 21, 23, 25]\n",
        "best_score = -1\n",
        "best_k = None\n",
        "\n",
        "# Hyperparameter tuning for k (Euclidean distance only)\n",
        "for k in k_values:\n",
        "    knn = KNN(k=k, distance_metric='euclidean', weighted=True)  # Use weighted KNN\n",
        "    cv_scores = cross_validate(X, y, knn)\n",
        "    avg_score = np.mean(cv_scores)  # Average ROC AUC score\n",
        "\n",
        "    # Update the best parameters if the current one is better\n",
        "    if avg_score > best_score:\n",
        "        best_score = avg_score\n",
        "        best_k = k\n",
        "\n",
        "print(f\"Best k found: {best_k}, with score: {best_score}\")\n",
        "# TODO: Train on full dataset with optimal hyperparameters and make predictions on test set\n",
        "knn = KNN(k=best_k, distance_metric='euclidean', weighted=True)\n",
        "knn.fit(X, y)\n",
        "test_predictions = knn.predict(X_test)\n",
        "\n",
        "# Save test predictions\n",
        "pd.DataFrame({'id': pd.read_csv(test_path)['id'], 'Exited': test_predictions}).to_csv('submissions.csv', index=False)"
      ]
    },
    {
      "cell_type": "code",
      "source": [],
      "metadata": {
        "id": "4q1b0I_9e79W"
      },
      "execution_count": null,
      "outputs": []
    }
  ],
  "metadata": {
    "kernelspec": {
      "display_name": "cs506",
      "language": "python",
      "name": "python3"
    },
    "language_info": {
      "codemirror_mode": {
        "name": "ipython",
        "version": 3
      },
      "file_extension": ".py",
      "mimetype": "text/x-python",
      "name": "python",
      "nbconvert_exporter": "python",
      "pygments_lexer": "ipython3",
      "version": "3.10.15"
    },
    "colab": {
      "provenance": []
    }
  },
  "nbformat": 4,
  "nbformat_minor": 0
}